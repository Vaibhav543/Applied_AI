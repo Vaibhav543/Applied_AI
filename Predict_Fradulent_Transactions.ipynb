{
  "nbformat": 4,
  "nbformat_minor": 0,
  "metadata": {
    "colab": {
      "provenance": [],
      "mount_file_id": "15fnMccChPU5W8oM77F68krTomaCcCRCe",
      "authorship_tag": "ABX9TyPOSa4nmnfRhws1Zf3hQFnI",
      "include_colab_link": true
    },
    "kernelspec": {
      "name": "python3",
      "display_name": "Python 3"
    },
    "language_info": {
      "name": "python"
    },
    "accelerator": "TPU"
  },
  "cells": [
    {
      "cell_type": "markdown",
      "metadata": {
        "id": "view-in-github",
        "colab_type": "text"
      },
      "source": [
        "<a href=\"https://colab.research.google.com/github/Vaibhav543/Applied_AI/blob/main/Predict_Fradulent_Transactions.ipynb\" target=\"_parent\"><img src=\"https://colab.research.google.com/assets/colab-badge.svg\" alt=\"Open In Colab\"/></a>"
      ]
    },
    {
      "cell_type": "code",
      "execution_count": null,
      "metadata": {
        "id": "zgGIBuZwb6Qu"
      },
      "outputs": [],
      "source": [
        "# Import required modules\n",
        "import csv\n",
        "import sqlite3\n",
        "import pandas as pd\n",
        "\n",
        "\n",
        "\n",
        "# Connecting to the geeks database\n",
        "connection = sqlite3.connect('ml.db')\n",
        "\n",
        "# Creating a cursor object to execute\n",
        "# SQL queries on a database table\n",
        "cursor = connection.cursor()\n",
        "\n",
        "# Table Definition\n",
        "Create_Transactions = '''CREATE TABLE Transactions(\n",
        "        TID INTEGER,\n",
        "        IdOfOrigStudent INTEGER,\n",
        "        IdOfDestStudent INTEGER,\n",
        "        transactionType TEXT,\n",
        "        hourStep INTEGER,\n",
        "        transaction_device TEXT,\n",
        "\t\t\t\tcomments TEXT);\n",
        "\t\t\t\t'''\n",
        "Create_Processed_Hacker_Check= '''CREATE TABLE Processed_Hacker_Check(\n",
        "        TID INTEGER,\n",
        "        isSuspectedHacker TEXT,\n",
        "        isHacker TEXT);\n",
        "\t\t\t\t'''\n",
        "Create_Students = '''CREATE TABLE Students(\n",
        "        StudentId INTEGER,\n",
        "        StudentName TEXT,\n",
        "        StudentAge INTEGER,\n",
        "        StudentYear INTEGER,\n",
        "        TransactionFrequency TEXT,\n",
        "        NumberOfTransactionsTillDate INTEGER,\n",
        "        AccountType TEXT);\n",
        "\t\t\t\t'''\n",
        "Create_Sender= '''CREATE TABLE Sender(\n",
        "        oldBalanceOfOrigStudent INTEGER,\n",
        "        newBalanceOfOrigStudent INTEGER,\n",
        "        transactionAmount INTEGER,\n",
        "        TID INTEGER);\n",
        "\t\t\t\t'''\n",
        "Create_Receiver= '''CREATE TABLE Receiver(\n",
        "        oldBalanceOfDestStudent INTEGER,\n",
        "        newBalanceOfDestStudent INTEGER,\n",
        "        transactionAmount INTEGER,\n",
        "        TID INTEGER);\n",
        "\t'''\n",
        "\n",
        "# Creating the table into our database. Dont Run again if relation is already created.\n",
        "cursor.execute(Create_Transactions)\n",
        "#cursor.execute(\"DROP TABLE Processed_Hacker_Check\")\n",
        "#cursor.execute(Create_Processed_Hacker_Check)\n",
        "cursor.execute(Create_Students)\n",
        "cursor.execute(Create_Sender)\n",
        "cursor.execute(Create_Receiver)\n",
        "\n",
        "##\n",
        "\n",
        "# Opening the person-records.csv file\n",
        "Transactions_file = open('/content/drive/MyDrive/ADS_DataSet/Transactions.csv')\n",
        "#Processed_Hacker_Check_file = open('/content/Processed_Hacker_Check.csv')\n",
        "Students_file = open('/content/drive/MyDrive/ADS_DataSet/Students.csv')\n",
        "Sender_file = open('/content/drive/MyDrive/ADS_DataSet/sender.csv')\n",
        "Receiver_file = open('/content/drive/MyDrive/ADS_DataSet/receiver.csv')\n",
        "\n",
        "\n",
        "\n",
        "# Reading the contents of the\n",
        "# person-records.csv file\n",
        "Transactions_contents = csv.reader(Transactions_file)\n",
        "#Processed_Hacker_Check_file_contents = csv.reader(Processed_Hacker_Check_file)\n",
        "Students_contents = csv.reader(Students_file)\n",
        "Sender_contents = csv.reader(Sender_file)\n",
        "Receiver_contents = csv.reader(Receiver_file)\n",
        "\n",
        "\n",
        "# SQL query to insert data into the\n",
        "# person table\n",
        "insert_Transactions = \"INSERT INTO Transactions (TID, IdOfOrigStudent,IdOfDestStudent,transactionType,hourStep,transaction_device,comments) VALUES(?,?,?,?,?,?,?) \"\n",
        "insert_Processed_Hacker_Check=\"INSERT INTO Processed_Hacker_Check (TID, isSuspectedHacker,isHacker) VALUES(?,?,?)\"\n",
        "insert_Students=\"INSERT INTO Students (StudentId, StudentName,StudentAge,StudentYear,TransactionFrequency,NumberOfTransactionsTillDate,AccountType) VALUES(?,?,?,?,?,?,?)\"\n",
        "insert_Sender=\"INSERT INTO Sender (oldBalanceOfOrigStudent, newBalanceOfOrigStudent,transactionAmount,TID) VALUES(?,?,?,?)\"\n",
        "insert_Receiver=\"INSERT INTO Receiver (oldBalanceOfDestStudent, newBalanceOfDestStudent,transactionAmount,TID) VALUES(?,?,?,?)\"\n",
        "\n",
        "\n",
        "\n",
        "# Importing the contents of the file\n",
        "# into our person table\n",
        "cursor.executemany(insert_Transactions, Transactions_contents)\n",
        "#cursor.executemany(insert_Processed_Hacker_Check, Processed_Hacker_Check_file_contents)\n",
        "cursor.executemany(insert_Students, Students_contents)\n",
        "cursor.executemany(insert_Sender, Sender_contents)\n",
        "cursor.executemany(insert_Receiver, Receiver_contents)\n",
        "\n",
        "\n",
        "# SQL query to retrieve all data from\n",
        "# the person table To verify that the\n",
        "# data of the csv file has been successfully\n",
        "# inserted into the table\n",
        "select_all = \"SELECT * FROM Transactions LIMIT 5\"\n",
        "rows = cursor.execute(select_all).fetchall()\n",
        "\n",
        "# Output to the console screen\n",
        "for r in rows:\n",
        "\tprint(r)\n",
        "\n",
        "# Committing the changes\n",
        "connection.commit()\n",
        "\n",
        "# closing the database connection\n",
        "#connection.close()\n"
      ]
    },
    {
      "cell_type": "code",
      "source": [
        "import sqlite3\n",
        "import time\n",
        "import openpyxl\n",
        "\n",
        "\n",
        "Create_Processed_Hacker_Check_= '''CREATE TABLE Processed_Hacker_Check(\n",
        "        TID INTEGER,\n",
        "        isSuspectedHacker INTEGER,\n",
        "        isHacker INTEGER);'''\n",
        "\n",
        "\n",
        "\n",
        "\n",
        "def case_study_1():\n",
        "    \"\"\" Test for case study 1. \"\"\"\n",
        "    # Open the database connection and the Excel file\n",
        "    with sqlite3.connect('ml.db', timeout=20) as db:\n",
        "        cursor = db.cursor()\n",
        "        #cursor.execute(\"DROP TABLE Processed_Hacker_Check\")\n",
        "        cursor.execute(Create_Processed_Hacker_Check_)\n",
        "        db.commit()\n",
        "\n",
        "        workbook=openpyxl.load_workbook('/content/drive/MyDrive/ADS_DataSet/Processed_Hacker_Check.xlsx')\n",
        "\n",
        "        # Access a specific sheet by name\n",
        "        sheet = workbook['Sheet1']\n",
        "\n",
        "        insert_Processed_Hacker_Check=\"INSERT INTO Processed_Hacker_Check (TID, isSuspectedHacker,isHacker) VALUES(?,?,?)\"\n",
        "\n",
        "\n",
        "        # Clear the database\n",
        "        #db.execute('DELETE FROM albums;')\n",
        "\n",
        "        # Load data from each Excel sheet into the database\n",
        "        # Iterate through rows and columns to read data\n",
        "        for row in sheet.iter_rows(values_only=True):\n",
        "         try:\n",
        "              cursor.execute(insert_Processed_Hacker_Check, (str(row[0]),str(row[1]),str(row[2])))\n",
        "              #cursor.execute(insert_Processed_Hacker_Check, row[0]),str(row[1]),str(row[2])))\n",
        "\n",
        "         except sqlite3.Error as e:\n",
        "                print(e)\n",
        "                db.rollback()\n",
        "\n",
        "        db.commit()\n",
        "\n",
        "        # Check if all data have been loaded\n",
        "        select_stmt = 'SELECT * FROM Processed_Hacker_Check LIMIT 5'\n",
        "        for row in cursor.execute(select_stmt).fetchall():\n",
        "            print(row)\n",
        "\n",
        "case_study_1()\n"
      ],
      "metadata": {
        "id": "32wMBtANidCj"
      },
      "execution_count": null,
      "outputs": []
    },
    {
      "cell_type": "code",
      "source": [
        "#SELECT Transactions.TID,IdOfOrigStudent,IdOfDestStudent,hourStep,transaction_device,comments,oldBalanceOfOrigStudent,newBalanceOfOrigStudent,oldBalanceOfDestStudent,newBalanceOfDestStudent\t,receiver.transactionAmount ,isSuspectedHacker,isHacker\n",
        "\n",
        "display = pd.read_sql_query(\"\"\"\n",
        "SELECT Transactions.TID,IdOfOrigStudent,IdOfDestStudent,hourStep,transaction_device,comments,oldBalanceOfOrigStudent,newBalanceOfOrigStudent,oldBalanceOfDestStudent,newBalanceOfDestStudent\t,receiver.transactionAmount ,isSuspectedHacker,isHacker\n",
        "FROM Transactions\n",
        "JOIN sender on sender.TID=Transactions.TID\n",
        "JOIN receiver on receiver.TID=Transactions.TID\n",
        "JOIN Processed_Hacker_Check on Processed_Hacker_Check.TID=Transactions.TID\"\"\", connection)\n",
        "display"
      ],
      "metadata": {
        "id": "lhEE518Ss3XG"
      },
      "execution_count": null,
      "outputs": []
    },
    {
      "cell_type": "code",
      "source": [
        "display=display.drop(\"isSuspectedHacker\",axis=1)\n",
        "\n",
        "display.drop(index=0,inplace=True)\n",
        "#display.drop(display[display['TID'].is].index,inplace=True)\n",
        "print(display.shape)\n"
      ],
      "metadata": {
        "id": "-2jUt6CwCKG4"
      },
      "execution_count": null,
      "outputs": []
    },
    {
      "cell_type": "code",
      "source": [
        "\n",
        "# save the labels into a variable l.\n",
        "label = display['isHacker']\n",
        "\n",
        "# Drop the label feature and store the pixel data in d.\n",
        "data = display.drop(\"isHacker\",axis=1)\n",
        "\n",
        "print(data.shape)\n",
        "print(label.shape)\n"
      ],
      "metadata": {
        "id": "KkZxWijTmh4S"
      },
      "execution_count": null,
      "outputs": []
    },
    {
      "cell_type": "code",
      "source": [
        "print(display.dtypes)"
      ],
      "metadata": {
        "id": "bAY3gQZNptBt"
      },
      "execution_count": null,
      "outputs": []
    },
    {
      "cell_type": "code",
      "source": [
        "\n",
        "print(display.columns)\n",
        "print(display['isHacker'].value_counts())\n",
        "\n",
        "print(display.nunique())\n",
        "\n",
        "\n",
        "#This is a highly imbalanced dataset as the number of data points for not Hacked Transactions are very less."
      ],
      "metadata": {
        "id": "4G0nZpbAIawC"
      },
      "execution_count": null,
      "outputs": []
    },
    {
      "cell_type": "code",
      "source": [
        "display.isnull().sum()"
      ],
      "metadata": {
        "id": "iD4DwHBZogbc"
      },
      "execution_count": null,
      "outputs": []
    },
    {
      "cell_type": "code",
      "source": [
        "display.comments.unique()"
      ],
      "metadata": {
        "id": "FG3_Vl0elixt"
      },
      "execution_count": null,
      "outputs": []
    },
    {
      "cell_type": "code",
      "source": [
        "# Data-preprocessing: Standardizing the data\n",
        "display[\"transaction_device\"].replace(['ATM card', 'Net Banking', 'Check', 'UPI'],[1,2,3,4],inplace=True)\n",
        "\n",
        "display[\"comments\"].replace(['eatables', 'Purchased groceries', 'food', 'dinner',\n",
        "       'purchased stationary', 'laundry rent', 'loan',\n",
        "       'Done at super market.', 'room rent', 'drinks', 'lunch', 'betting',\n",
        "       'breakfast'],[1,2,3,4,5,6,7,8,9,10,11,12,13],inplace=True)\n",
        "\n",
        "\n",
        "\n",
        "numeric_data=display.drop(['IdOfOrigStudent','IdOfDestStudent'],axis=1)\n",
        "\n",
        "print(numeric_data.columns)\n"
      ],
      "metadata": {
        "id": "Mk9cADXvvswX"
      },
      "execution_count": null,
      "outputs": []
    },
    {
      "cell_type": "code",
      "source": [
        "from sklearn.preprocessing import StandardScaler\n",
        "standardized_data = StandardScaler().fit_transform(numeric_data)\n",
        "print(standardized_data.shape)\n",
        "\n",
        "# TSNE for data visulization\n",
        "\n",
        "from sklearn.manifold import TSNE\n",
        "import numpy as np\n",
        "import seaborn as sn\n",
        "import matplotlib.pyplot as plt\n",
        "\n",
        "\n",
        "model = TSNE(n_components=2,random_state=0,perplexity=2,n_iter=5000)\n",
        "# configuring the parameteres\n",
        "# the number of components = 2\n",
        "# default perplexity = 30\n",
        "# default learning rate = 200\n",
        "# default Maximum number of iterations for the optimization = 1000\n",
        "\n",
        "tsne_data = model.fit_transform(standardized_data)\n",
        "\n",
        "\n",
        "# creating a new data frame which help us in ploting the result data\n",
        "tsne_data = np.vstack((tsne_data.T, label)).T\n",
        "tsne_df = pd.DataFrame(data=tsne_data, columns=(\"Dim_1\", \"Dim_2\", \"label\"))\n",
        "\n",
        "# Ploting the result of tsne\n",
        "sn.FacetGrid(tsne_df, hue=\"isHacker\", size=6).map(plt.scatter, 'Dim_1', 'Dim_2').add_legend()\n",
        "plt.show()"
      ],
      "metadata": {
        "id": "V32e63uUDzFk"
      },
      "execution_count": null,
      "outputs": []
    },
    {
      "cell_type": "code",
      "source": [
        "# 2-D Scatter plot with color-coding for each class.\n",
        "# Here 'sns' corresponds to seaborn.\n",
        "import seaborn as sn\n",
        "import matplotlib.pyplot as plt\n",
        "\n",
        "sn.set_style(\"whitegrid\");\n",
        "sn.FacetGrid(display, hue=\"isHacker\",height=6) \\\n",
        "   .map(plt.scatter, \"transaction_device\", \"transactionAmount\") \\\n",
        "   .add_legend();\n",
        "plt.show();"
      ],
      "metadata": {
        "id": "yluEYjtKEbot"
      },
      "execution_count": null,
      "outputs": []
    },
    {
      "cell_type": "code",
      "source": [
        "#Pair Plot\n",
        "sn.set_style(\"whitegrid\");\n",
        "sn.pairplot(numeric_data, hue=\"isHacker\", height=5);\n",
        "plt.show()"
      ],
      "metadata": {
        "id": "t5sXj-oXn_42"
      },
      "execution_count": null,
      "outputs": []
    },
    {
      "cell_type": "code",
      "source": [
        "#Histogram(1D Scatter Plot)\n",
        "#PDF is smoothed form of histogram (Percentage of data points that lie between two x values)\n",
        "\n",
        "g1=sn.FacetGrid(numeric_data,hue=\"isHacker\")\n",
        "g1.map(sn.distplot,\"transaction_device\")\n",
        "g1.add_legend()\n",
        "plt.show()"
      ],
      "metadata": {
        "id": "jBNB0JJl4gSK"
      },
      "execution_count": null,
      "outputs": []
    },
    {
      "cell_type": "code",
      "source": [
        "g1=sn.FacetGrid(numeric_data,hue=\"isHacker\")\n",
        "g1.map(sn.distplot,\"transactionAmount\")\n",
        "g1.add_legend()\n",
        "plt.show()"
      ],
      "metadata": {
        "id": "8nh_V0nP5ohP"
      },
      "execution_count": null,
      "outputs": []
    },
    {
      "cell_type": "code",
      "source": [
        "#Box-plot with whiskers: It is another method of visualizing the  1-D scatter plot more intuitivey.\n",
        "sn.boxplot(x='isHacker',y='transactionAmount', data=display)\n",
        "plt.show()\n"
      ],
      "metadata": {
        "id": "waHMNe456B_n"
      },
      "execution_count": null,
      "outputs": []
    },
    {
      "cell_type": "code",
      "source": [
        "#Box Plot\n",
        "#['ATM card', 'Net Banking', 'Check', 'UPI'],[1,2,3,4]\n",
        "\n",
        "sn.boxplot(x='isHacker',y='transaction_device', data=numeric_data)\n",
        "plt.legend([\"1-ATM card\",\"2-Net Banking\",\"3-Check\",\"4-UPI\"])\n",
        "plt.show()\n"
      ],
      "metadata": {
        "id": "blRV8Jf36WY-"
      },
      "execution_count": null,
      "outputs": []
    },
    {
      "cell_type": "code",
      "source": [
        "#In Violin Plot, Denser regions of the data are fatter, and sparser ones thinner\n",
        "#Violin plot\n",
        "\n",
        "sn.violinplot(x=\"isHacker\", y=\"transactionAmount\", data=display, size=8)\n",
        "plt.add_legend()\n",
        "plt.show()"
      ],
      "metadata": {
        "id": "MQ5nJ00e6-ow"
      },
      "execution_count": null,
      "outputs": []
    }
  ]
}