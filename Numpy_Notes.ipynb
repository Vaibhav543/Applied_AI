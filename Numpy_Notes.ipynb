{
  "nbformat": 4,
  "nbformat_minor": 0,
  "metadata": {
    "colab": {
      "provenance": [],
      "include_colab_link": true
    },
    "kernelspec": {
      "display_name": "Python 3",
      "language": "python",
      "name": "python3"
    }
  },
  "cells": [
    {
      "cell_type": "markdown",
      "metadata": {
        "id": "view-in-github",
        "colab_type": "text"
      },
      "source": [
        "<a href=\"https://colab.research.google.com/github/Vaibhav543/Applied_AI/blob/main/Numpy_Notes.ipynb\" target=\"_parent\"><img src=\"https://colab.research.google.com/assets/colab-badge.svg\" alt=\"Open In Colab\"/></a>"
      ]
    },
    {
      "cell_type": "code",
      "metadata": {
        "id": "jfJQ0s3bswc_"
      },
      "source": [
        "\n",
        "import numpy as np"
      ],
      "execution_count": 1,
      "outputs": []
    },
    {
      "cell_type": "markdown",
      "metadata": {
        "id": "jhQnKQ2KswdE"
      },
      "source": [
        "# Elementwise Operations"
      ]
    },
    {
      "cell_type": "markdown",
      "metadata": {
        "id": "Wtu7cWpiswdF"
      },
      "source": [
        "**1. Basic Operations**"
      ]
    },
    {
      "cell_type": "markdown",
      "metadata": {
        "id": "F-67X08fswdG"
      },
      "source": [
        "**with scalars**"
      ]
    },
    {
      "cell_type": "code",
      "metadata": {
        "id": "dVy44XhoswdI",
        "colab": {
          "base_uri": "https://localhost:8080/"
        },
        "outputId": "ccf5372f-144c-459d-add6-6a62bfed0d3b"
      },
      "source": [
        "a = np.array([1, 2, 3, 4]) #create an array\n",
        "\n",
        "a + 1"
      ],
      "execution_count": 2,
      "outputs": [
        {
          "output_type": "execute_result",
          "data": {
            "text/plain": [
              "array([2, 3, 4, 5])"
            ]
          },
          "metadata": {},
          "execution_count": 2
        }
      ]
    },
    {
      "cell_type": "code",
      "metadata": {
        "id": "C3xGq800swdO",
        "colab": {
          "base_uri": "https://localhost:8080/"
        },
        "outputId": "b5e98077-4e36-4d10-a6be-4abbd1617ac0"
      },
      "source": [
        "a ** 2"
      ],
      "execution_count": 3,
      "outputs": [
        {
          "output_type": "execute_result",
          "data": {
            "text/plain": [
              "array([ 1,  4,  9, 16])"
            ]
          },
          "metadata": {},
          "execution_count": 3
        }
      ]
    },
    {
      "cell_type": "markdown",
      "metadata": {
        "id": "RUCgn5sWswdS"
      },
      "source": [
        "**All arithmetic operates elementwise**"
      ]
    },
    {
      "cell_type": "code",
      "metadata": {
        "id": "8PnM4PU7swdT",
        "colab": {
          "base_uri": "https://localhost:8080/"
        },
        "outputId": "9758b276-20f3-4af4-83d7-0ef91ee1dc3e"
      },
      "source": [
        "b = np.ones(4, dtype=int) + 1\n",
        "\n",
        "a-b"
      ],
      "execution_count": 23,
      "outputs": [
        {
          "output_type": "execute_result",
          "data": {
            "text/plain": [
              "array([-2, -1,  0,  1])"
            ]
          },
          "metadata": {},
          "execution_count": 23
        }
      ]
    },
    {
      "cell_type": "code",
      "metadata": {
        "id": "rpXvbqFwswdX",
        "colab": {
          "base_uri": "https://localhost:8080/"
        },
        "outputId": "c15797b0-28df-4dfa-e1f9-a030dbaaff00"
      },
      "source": [
        "a * b"
      ],
      "execution_count": 24,
      "outputs": [
        {
          "output_type": "execute_result",
          "data": {
            "text/plain": [
              "array([0, 2, 4, 6])"
            ]
          },
          "metadata": {},
          "execution_count": 24
        }
      ]
    },
    {
      "cell_type": "code",
      "metadata": {
        "id": "2abVO_V_swdb",
        "colab": {
          "base_uri": "https://localhost:8080/"
        },
        "outputId": "d2533d51-8bdd-4bce-fc46-b17cc5069207"
      },
      "source": [
        "# Matrix multiplication\n",
        "\n",
        "c = np.diag([1, 2, 3, 4])\n",
        "\n",
        "print(c * c)\n",
        "print(\"*****************\")\n",
        "print(c.dot(c))"
      ],
      "execution_count": 6,
      "outputs": [
        {
          "output_type": "stream",
          "name": "stdout",
          "text": [
            "[[ 1  0  0  0]\n",
            " [ 0  4  0  0]\n",
            " [ 0  0  9  0]\n",
            " [ 0  0  0 16]]\n",
            "*****************\n",
            "[[ 1  0  0  0]\n",
            " [ 0  4  0  0]\n",
            " [ 0  0  9  0]\n",
            " [ 0  0  0 16]]\n"
          ]
        }
      ]
    },
    {
      "cell_type": "markdown",
      "metadata": {
        "id": "WQJuiT1uswdf"
      },
      "source": [
        "**comparisions**"
      ]
    },
    {
      "cell_type": "code",
      "metadata": {
        "id": "fjeX-CiOswdg",
        "colab": {
          "base_uri": "https://localhost:8080/"
        },
        "outputId": "5e4d9b0a-e90c-4610-faa2-c68898fb7488"
      },
      "source": [
        "a = np.array([1, 2, 3, 4])\n",
        "b = np.array([5, 2, 2, 4])\n",
        "a == b"
      ],
      "execution_count": 7,
      "outputs": [
        {
          "output_type": "execute_result",
          "data": {
            "text/plain": [
              "array([False,  True, False,  True])"
            ]
          },
          "metadata": {},
          "execution_count": 7
        }
      ]
    },
    {
      "cell_type": "code",
      "metadata": {
        "id": "X8TTJ8A2swdk",
        "colab": {
          "base_uri": "https://localhost:8080/"
        },
        "outputId": "abdb6ec1-6cb7-44fd-ea12-0303cb9e8161"
      },
      "source": [
        "a > b"
      ],
      "execution_count": 8,
      "outputs": [
        {
          "output_type": "execute_result",
          "data": {
            "text/plain": [
              "array([False, False,  True, False])"
            ]
          },
          "metadata": {},
          "execution_count": 8
        }
      ]
    },
    {
      "cell_type": "code",
      "metadata": {
        "id": "J6VVph4Qswdp",
        "colab": {
          "base_uri": "https://localhost:8080/"
        },
        "outputId": "1696bda5-188b-4436-b895-cfb5aec1ec6a"
      },
      "source": [
        "#array-wise comparisions\n",
        "a = np.array([1, 2, 3, 4])\n",
        "b = np.array([5, 2, 2, 4])\n",
        "c = np.array([1, 2, 3, 4])\n",
        "\n",
        "np.array_equal(a, b)"
      ],
      "execution_count": 9,
      "outputs": [
        {
          "output_type": "execute_result",
          "data": {
            "text/plain": [
              "False"
            ]
          },
          "metadata": {},
          "execution_count": 9
        }
      ]
    },
    {
      "cell_type": "code",
      "metadata": {
        "id": "4WcN5_dEswds",
        "colab": {
          "base_uri": "https://localhost:8080/"
        },
        "outputId": "cb694185-6c8e-433a-8c84-20b895b767c5"
      },
      "source": [
        "np.array_equal(a, c)"
      ],
      "execution_count": 10,
      "outputs": [
        {
          "output_type": "execute_result",
          "data": {
            "text/plain": [
              "True"
            ]
          },
          "metadata": {},
          "execution_count": 10
        }
      ]
    },
    {
      "cell_type": "markdown",
      "metadata": {
        "id": "9zENvq0Eswdw"
      },
      "source": [
        "**Logical Operations**"
      ]
    },
    {
      "cell_type": "code",
      "metadata": {
        "id": "1jnb4Oyoswdy",
        "colab": {
          "base_uri": "https://localhost:8080/"
        },
        "outputId": "048052ec-e112-49ce-a323-71e4dc765978"
      },
      "source": [
        "a = np.array([1, 1, 0, 0], dtype=bool)\n",
        "b = np.array([1, 0, 1, 0], dtype=bool)\n",
        "\n",
        "np.logical_or(a, b)"
      ],
      "execution_count": 11,
      "outputs": [
        {
          "output_type": "execute_result",
          "data": {
            "text/plain": [
              "array([ True,  True,  True, False])"
            ]
          },
          "metadata": {},
          "execution_count": 11
        }
      ]
    },
    {
      "cell_type": "code",
      "metadata": {
        "id": "0Y_BIY2sswd4",
        "colab": {
          "base_uri": "https://localhost:8080/"
        },
        "outputId": "af62081e-d971-40d8-8a8f-9b93a753bc42"
      },
      "source": [
        "np.logical_and(a, b)"
      ],
      "execution_count": 12,
      "outputs": [
        {
          "output_type": "execute_result",
          "data": {
            "text/plain": [
              "array([ True, False, False, False])"
            ]
          },
          "metadata": {},
          "execution_count": 12
        }
      ]
    },
    {
      "cell_type": "markdown",
      "metadata": {
        "id": "TphCEdOgswd_"
      },
      "source": [
        "**Transcendental functions:**"
      ]
    },
    {
      "cell_type": "code",
      "metadata": {
        "id": "lRgKTcVYsweA",
        "colab": {
          "base_uri": "https://localhost:8080/"
        },
        "outputId": "c538ad2b-67a6-4f49-bdc7-15d5c4139c9a"
      },
      "source": [
        "a = np.arange(5)\n",
        "\n",
        "np.sin(a)"
      ],
      "execution_count": 13,
      "outputs": [
        {
          "output_type": "execute_result",
          "data": {
            "text/plain": [
              "array([ 0.        ,  0.84147098,  0.90929743,  0.14112001, -0.7568025 ])"
            ]
          },
          "metadata": {},
          "execution_count": 13
        }
      ]
    },
    {
      "cell_type": "code",
      "metadata": {
        "id": "o2WNaZYTsweG",
        "colab": {
          "base_uri": "https://localhost:8080/"
        },
        "outputId": "1f1267db-02f9-4312-9a5a-109148bcc4eb"
      },
      "source": [
        "np.log(a)"
      ],
      "execution_count": 14,
      "outputs": [
        {
          "output_type": "stream",
          "name": "stderr",
          "text": [
            "<ipython-input-14-89b6b8e53c58>:1: RuntimeWarning: divide by zero encountered in log\n",
            "  np.log(a)\n"
          ]
        },
        {
          "output_type": "execute_result",
          "data": {
            "text/plain": [
              "array([      -inf, 0.        , 0.69314718, 1.09861229, 1.38629436])"
            ]
          },
          "metadata": {},
          "execution_count": 14
        }
      ]
    },
    {
      "cell_type": "code",
      "metadata": {
        "id": "4BqEA2-6sweM",
        "colab": {
          "base_uri": "https://localhost:8080/"
        },
        "outputId": "00dbae2d-0be3-4a47-993d-6c5aafed34be"
      },
      "source": [
        "np.exp(a)   #evaluates e^x for each element in a given input"
      ],
      "execution_count": 15,
      "outputs": [
        {
          "output_type": "execute_result",
          "data": {
            "text/plain": [
              "array([ 1.        ,  2.71828183,  7.3890561 , 20.08553692, 54.59815003])"
            ]
          },
          "metadata": {},
          "execution_count": 15
        }
      ]
    },
    {
      "cell_type": "markdown",
      "metadata": {
        "id": "ZTCX8P40sweR"
      },
      "source": [
        "**Shape Mismatch**"
      ]
    },
    {
      "cell_type": "code",
      "metadata": {
        "id": "rEWPomresweR",
        "colab": {
          "base_uri": "https://localhost:8080/",
          "height": 176
        },
        "outputId": "9deb52f3-07d1-4397-93e6-fda4a7bd5db5"
      },
      "source": [
        "a = np.arange(4)\n",
        "\n",
        "a + np.array([1, 2])"
      ],
      "execution_count": 16,
      "outputs": [
        {
          "output_type": "error",
          "ename": "ValueError",
          "evalue": "operands could not be broadcast together with shapes (4,) (2,) ",
          "traceback": [
            "\u001b[0;31m---------------------------------------------------------------------------\u001b[0m",
            "\u001b[0;31mValueError\u001b[0m                                Traceback (most recent call last)",
            "\u001b[0;32m<ipython-input-16-9bed92644e4e>\u001b[0m in \u001b[0;36m<cell line: 3>\u001b[0;34m()\u001b[0m\n\u001b[1;32m      1\u001b[0m \u001b[0ma\u001b[0m \u001b[0;34m=\u001b[0m \u001b[0mnp\u001b[0m\u001b[0;34m.\u001b[0m\u001b[0marange\u001b[0m\u001b[0;34m(\u001b[0m\u001b[0;36m4\u001b[0m\u001b[0;34m)\u001b[0m\u001b[0;34m\u001b[0m\u001b[0;34m\u001b[0m\u001b[0m\n\u001b[1;32m      2\u001b[0m \u001b[0;34m\u001b[0m\u001b[0m\n\u001b[0;32m----> 3\u001b[0;31m \u001b[0ma\u001b[0m \u001b[0;34m+\u001b[0m \u001b[0mnp\u001b[0m\u001b[0;34m.\u001b[0m\u001b[0marray\u001b[0m\u001b[0;34m(\u001b[0m\u001b[0;34m[\u001b[0m\u001b[0;36m1\u001b[0m\u001b[0;34m,\u001b[0m \u001b[0;36m2\u001b[0m\u001b[0;34m]\u001b[0m\u001b[0;34m)\u001b[0m\u001b[0;34m\u001b[0m\u001b[0;34m\u001b[0m\u001b[0m\n\u001b[0m",
            "\u001b[0;31mValueError\u001b[0m: operands could not be broadcast together with shapes (4,) (2,) "
          ]
        }
      ]
    },
    {
      "cell_type": "markdown",
      "metadata": {
        "id": "9pyhkSfQsweW"
      },
      "source": [
        "# Basic Reductions"
      ]
    },
    {
      "cell_type": "markdown",
      "metadata": {
        "id": "DHyoVepdsweX"
      },
      "source": [
        "**computing sums**"
      ]
    },
    {
      "cell_type": "code",
      "metadata": {
        "id": "8Ed2Id_-sweY",
        "colab": {
          "base_uri": "https://localhost:8080/"
        },
        "outputId": "44188800-b583-427e-9035-c09126e27efb"
      },
      "source": [
        "x = np.array([1, 2, 3, 4])\n",
        "np.sum(x)"
      ],
      "execution_count": 25,
      "outputs": [
        {
          "output_type": "execute_result",
          "data": {
            "text/plain": [
              "10"
            ]
          },
          "metadata": {},
          "execution_count": 25
        }
      ]
    },
    {
      "cell_type": "code",
      "metadata": {
        "id": "zRoRIgZqswed",
        "colab": {
          "base_uri": "https://localhost:8080/"
        },
        "outputId": "ddccb616-d938-4666-c179-185bcbf23a5c"
      },
      "source": [
        "#sum by rows and by columns\n",
        "\n",
        "x = np.array([[1, 1], [2, 2]])\n",
        "x"
      ],
      "execution_count": 26,
      "outputs": [
        {
          "output_type": "execute_result",
          "data": {
            "text/plain": [
              "array([[1, 1],\n",
              "       [2, 2]])"
            ]
          },
          "metadata": {},
          "execution_count": 26
        }
      ]
    },
    {
      "cell_type": "code",
      "metadata": {
        "id": "_vP6O-E2sweh",
        "colab": {
          "base_uri": "https://localhost:8080/"
        },
        "outputId": "e1e3c9ae-73ef-4210-bdc5-8a776d755b62"
      },
      "source": [
        "x.sum(axis=0)   #columns first dimension"
      ],
      "execution_count": 27,
      "outputs": [
        {
          "output_type": "execute_result",
          "data": {
            "text/plain": [
              "array([3, 3])"
            ]
          },
          "metadata": {},
          "execution_count": 27
        }
      ]
    },
    {
      "cell_type": "code",
      "metadata": {
        "id": "Tcuz_6SRswel",
        "colab": {
          "base_uri": "https://localhost:8080/"
        },
        "outputId": "5280b9f8-a6ac-4c62-b041-261b34530d02"
      },
      "source": [
        "x.sum(axis=1)  #rows (second dimension)"
      ],
      "execution_count": 28,
      "outputs": [
        {
          "output_type": "execute_result",
          "data": {
            "text/plain": [
              "array([2, 4])"
            ]
          },
          "metadata": {},
          "execution_count": 28
        }
      ]
    },
    {
      "cell_type": "markdown",
      "metadata": {
        "id": "958ZeK7bsweq"
      },
      "source": [
        "**Other reductions**"
      ]
    },
    {
      "cell_type": "code",
      "metadata": {
        "id": "R5zUDMynswer",
        "colab": {
          "base_uri": "https://localhost:8080/"
        },
        "outputId": "9641e067-6c7f-4e70-93a7-0c50626c2b5c"
      },
      "source": [
        "x = np.array([1, 3, 2])\n",
        "x.min()"
      ],
      "execution_count": 29,
      "outputs": [
        {
          "output_type": "execute_result",
          "data": {
            "text/plain": [
              "1"
            ]
          },
          "metadata": {},
          "execution_count": 29
        }
      ]
    },
    {
      "cell_type": "code",
      "metadata": {
        "id": "kZtfLNX3swet",
        "colab": {
          "base_uri": "https://localhost:8080/"
        },
        "outputId": "bc97387f-dbf9-4261-eed5-cc69022f5cc0"
      },
      "source": [
        "x.max()"
      ],
      "execution_count": 30,
      "outputs": [
        {
          "output_type": "execute_result",
          "data": {
            "text/plain": [
              "3"
            ]
          },
          "metadata": {},
          "execution_count": 30
        }
      ]
    },
    {
      "cell_type": "code",
      "metadata": {
        "id": "AFmjGkYeswex",
        "colab": {
          "base_uri": "https://localhost:8080/"
        },
        "outputId": "f3ba28e4-6bed-4d53-8209-e3ff114f2a02"
      },
      "source": [
        "x.argmin()# index of minimum element"
      ],
      "execution_count": 31,
      "outputs": [
        {
          "output_type": "execute_result",
          "data": {
            "text/plain": [
              "0"
            ]
          },
          "metadata": {},
          "execution_count": 31
        }
      ]
    },
    {
      "cell_type": "code",
      "metadata": {
        "id": "jZ1Kne4bswe0",
        "colab": {
          "base_uri": "https://localhost:8080/"
        },
        "outputId": "9649ac25-8b26-4432-8eca-6d0e3c14b70b"
      },
      "source": [
        "x.argmax()# index of maximum element"
      ],
      "execution_count": 32,
      "outputs": [
        {
          "output_type": "execute_result",
          "data": {
            "text/plain": [
              "1"
            ]
          },
          "metadata": {},
          "execution_count": 32
        }
      ]
    },
    {
      "cell_type": "markdown",
      "metadata": {
        "id": "HMjQrI2Xswe6"
      },
      "source": [
        "**Logical Operations**"
      ]
    },
    {
      "cell_type": "code",
      "metadata": {
        "id": "yDdavXNvswe7",
        "colab": {
          "base_uri": "https://localhost:8080/"
        },
        "outputId": "46c65d1a-1570-4994-8563-46a1a0e5c5a9"
      },
      "source": [
        "np.all([True, True, False])"
      ],
      "execution_count": 33,
      "outputs": [
        {
          "output_type": "execute_result",
          "data": {
            "text/plain": [
              "False"
            ]
          },
          "metadata": {},
          "execution_count": 33
        }
      ]
    },
    {
      "cell_type": "code",
      "metadata": {
        "id": "pWQ5lldeswfA",
        "colab": {
          "base_uri": "https://localhost:8080/"
        },
        "outputId": "cfa54247-d057-4002-ee4b-ce524b517367"
      },
      "source": [
        "np.any([True, False, False])"
      ],
      "execution_count": 34,
      "outputs": [
        {
          "output_type": "execute_result",
          "data": {
            "text/plain": [
              "True"
            ]
          },
          "metadata": {},
          "execution_count": 34
        }
      ]
    },
    {
      "cell_type": "code",
      "metadata": {
        "id": "g7ZIbD4YswfD",
        "colab": {
          "base_uri": "https://localhost:8080/"
        },
        "outputId": "8efb84c6-d01b-4a0f-80c9-80d96ad63fb4"
      },
      "source": [
        "#Note: can be used for array comparisions\n",
        "a = np.zeros((50, 50))\n",
        "np.any(a != 0)"
      ],
      "execution_count": 35,
      "outputs": [
        {
          "output_type": "execute_result",
          "data": {
            "text/plain": [
              "False"
            ]
          },
          "metadata": {},
          "execution_count": 35
        }
      ]
    },
    {
      "cell_type": "code",
      "metadata": {
        "id": "zinI9W8hswfH",
        "colab": {
          "base_uri": "https://localhost:8080/"
        },
        "outputId": "f96ac956-f157-4ad0-fe0e-795c4922d5d9"
      },
      "source": [
        "np.all(a == a)"
      ],
      "execution_count": 36,
      "outputs": [
        {
          "output_type": "execute_result",
          "data": {
            "text/plain": [
              "True"
            ]
          },
          "metadata": {},
          "execution_count": 36
        }
      ]
    },
    {
      "cell_type": "code",
      "metadata": {
        "id": "HuTF_mToswfL",
        "colab": {
          "base_uri": "https://localhost:8080/"
        },
        "outputId": "afcd07ca-ebfe-446a-ff45-98e16901d1af"
      },
      "source": [
        "a = np.array([1, 2, 3, 2])\n",
        "b = np.array([2, 2, 3, 2])\n",
        "c = np.array([6, 4, 4, 5])\n",
        "((a <= b) & (b <= c)).all()"
      ],
      "execution_count": 37,
      "outputs": [
        {
          "output_type": "execute_result",
          "data": {
            "text/plain": [
              "True"
            ]
          },
          "metadata": {},
          "execution_count": 37
        }
      ]
    },
    {
      "cell_type": "markdown",
      "metadata": {
        "id": "APsZAg7_swfO"
      },
      "source": [
        "**Statistics**"
      ]
    },
    {
      "cell_type": "code",
      "metadata": {
        "id": "cjoteMjGswfP",
        "colab": {
          "base_uri": "https://localhost:8080/"
        },
        "outputId": "cb524be2-2ef7-40dd-8fac-3aab7422611c"
      },
      "source": [
        "x = np.array([1, 2, 3, 1])\n",
        "y = np.array([[1, 2, 3], [5, 6, 1]])\n",
        "x.mean()"
      ],
      "execution_count": 38,
      "outputs": [
        {
          "output_type": "execute_result",
          "data": {
            "text/plain": [
              "1.75"
            ]
          },
          "metadata": {},
          "execution_count": 38
        }
      ]
    },
    {
      "cell_type": "code",
      "metadata": {
        "id": "JXWE8ldfswfV",
        "colab": {
          "base_uri": "https://localhost:8080/"
        },
        "outputId": "b4e188b9-9eab-4c2b-8246-2d1e09bc454c"
      },
      "source": [
        "np.median(x)"
      ],
      "execution_count": 39,
      "outputs": [
        {
          "output_type": "execute_result",
          "data": {
            "text/plain": [
              "1.5"
            ]
          },
          "metadata": {},
          "execution_count": 39
        }
      ]
    },
    {
      "cell_type": "code",
      "metadata": {
        "id": "uiBhX8Ktswfj",
        "colab": {
          "base_uri": "https://localhost:8080/"
        },
        "outputId": "fc7bd50e-b548-4b1e-f218-981e82e141a4"
      },
      "source": [
        "np.median(y, axis=-1) # last axis"
      ],
      "execution_count": 40,
      "outputs": [
        {
          "output_type": "execute_result",
          "data": {
            "text/plain": [
              "array([2., 5.])"
            ]
          },
          "metadata": {},
          "execution_count": 40
        }
      ]
    },
    {
      "cell_type": "code",
      "metadata": {
        "id": "Cy3p6_0nswfo",
        "colab": {
          "base_uri": "https://localhost:8080/"
        },
        "outputId": "503242d6-0df5-49d8-9065-8c3b7767fab6"
      },
      "source": [
        "x.std()          # full population standard dev."
      ],
      "execution_count": 41,
      "outputs": [
        {
          "output_type": "execute_result",
          "data": {
            "text/plain": [
              "0.82915619758885"
            ]
          },
          "metadata": {},
          "execution_count": 41
        }
      ]
    },
    {
      "cell_type": "markdown",
      "metadata": {
        "id": "UmJ61pVXswfu"
      },
      "source": [
        "**Example:**"
      ]
    },
    {
      "cell_type": "markdown",
      "metadata": {
        "id": "anUWifpEswfx"
      },
      "source": [
        "Data in populations.txt describes the populations of hares and lynxes (and carrots) in northern Canada during 20 years.\n"
      ]
    },
    {
      "cell_type": "code",
      "metadata": {
        "id": "rnVBTztnswfy",
        "colab": {
          "base_uri": "https://localhost:8080/",
          "height": 304
        },
        "outputId": "6d9cb622-55b4-41d8-9b03-602c20f57488"
      },
      "source": [
        "#load data into numpy array object\n",
        "data = np.loadtxt('populations.txt')"
      ],
      "execution_count": 42,
      "outputs": [
        {
          "output_type": "error",
          "ename": "FileNotFoundError",
          "evalue": "populations.txt not found.",
          "traceback": [
            "\u001b[0;31m---------------------------------------------------------------------------\u001b[0m",
            "\u001b[0;31mFileNotFoundError\u001b[0m                         Traceback (most recent call last)",
            "\u001b[0;32m<ipython-input-42-7875d546229c>\u001b[0m in \u001b[0;36m<cell line: 2>\u001b[0;34m()\u001b[0m\n\u001b[1;32m      1\u001b[0m \u001b[0;31m#load data into numpy array object\u001b[0m\u001b[0;34m\u001b[0m\u001b[0;34m\u001b[0m\u001b[0m\n\u001b[0;32m----> 2\u001b[0;31m \u001b[0mdata\u001b[0m \u001b[0;34m=\u001b[0m \u001b[0mnp\u001b[0m\u001b[0;34m.\u001b[0m\u001b[0mloadtxt\u001b[0m\u001b[0;34m(\u001b[0m\u001b[0;34m'populations.txt'\u001b[0m\u001b[0;34m)\u001b[0m\u001b[0;34m\u001b[0m\u001b[0;34m\u001b[0m\u001b[0m\n\u001b[0m",
            "\u001b[0;32m/usr/local/lib/python3.10/dist-packages/numpy/lib/npyio.py\u001b[0m in \u001b[0;36mloadtxt\u001b[0;34m(fname, dtype, comments, delimiter, converters, skiprows, usecols, unpack, ndmin, encoding, max_rows, quotechar, like)\u001b[0m\n\u001b[1;32m   1371\u001b[0m         \u001b[0mdelimiter\u001b[0m \u001b[0;34m=\u001b[0m \u001b[0mdelimiter\u001b[0m\u001b[0;34m.\u001b[0m\u001b[0mdecode\u001b[0m\u001b[0;34m(\u001b[0m\u001b[0;34m'latin1'\u001b[0m\u001b[0;34m)\u001b[0m\u001b[0;34m\u001b[0m\u001b[0;34m\u001b[0m\u001b[0m\n\u001b[1;32m   1372\u001b[0m \u001b[0;34m\u001b[0m\u001b[0m\n\u001b[0;32m-> 1373\u001b[0;31m     arr = _read(fname, dtype=dtype, comment=comment, delimiter=delimiter,\n\u001b[0m\u001b[1;32m   1374\u001b[0m                 \u001b[0mconverters\u001b[0m\u001b[0;34m=\u001b[0m\u001b[0mconverters\u001b[0m\u001b[0;34m,\u001b[0m \u001b[0mskiplines\u001b[0m\u001b[0;34m=\u001b[0m\u001b[0mskiprows\u001b[0m\u001b[0;34m,\u001b[0m \u001b[0musecols\u001b[0m\u001b[0;34m=\u001b[0m\u001b[0musecols\u001b[0m\u001b[0;34m,\u001b[0m\u001b[0;34m\u001b[0m\u001b[0;34m\u001b[0m\u001b[0m\n\u001b[1;32m   1375\u001b[0m                 \u001b[0munpack\u001b[0m\u001b[0;34m=\u001b[0m\u001b[0munpack\u001b[0m\u001b[0;34m,\u001b[0m \u001b[0mndmin\u001b[0m\u001b[0;34m=\u001b[0m\u001b[0mndmin\u001b[0m\u001b[0;34m,\u001b[0m \u001b[0mencoding\u001b[0m\u001b[0;34m=\u001b[0m\u001b[0mencoding\u001b[0m\u001b[0;34m,\u001b[0m\u001b[0;34m\u001b[0m\u001b[0;34m\u001b[0m\u001b[0m\n",
            "\u001b[0;32m/usr/local/lib/python3.10/dist-packages/numpy/lib/npyio.py\u001b[0m in \u001b[0;36m_read\u001b[0;34m(fname, delimiter, comment, quote, imaginary_unit, usecols, skiplines, max_rows, converters, ndmin, unpack, dtype, encoding)\u001b[0m\n\u001b[1;32m    990\u001b[0m             \u001b[0mfname\u001b[0m \u001b[0;34m=\u001b[0m \u001b[0mos\u001b[0m\u001b[0;34m.\u001b[0m\u001b[0mfspath\u001b[0m\u001b[0;34m(\u001b[0m\u001b[0mfname\u001b[0m\u001b[0;34m)\u001b[0m\u001b[0;34m\u001b[0m\u001b[0;34m\u001b[0m\u001b[0m\n\u001b[1;32m    991\u001b[0m         \u001b[0;32mif\u001b[0m \u001b[0misinstance\u001b[0m\u001b[0;34m(\u001b[0m\u001b[0mfname\u001b[0m\u001b[0;34m,\u001b[0m \u001b[0mstr\u001b[0m\u001b[0;34m)\u001b[0m\u001b[0;34m:\u001b[0m\u001b[0;34m\u001b[0m\u001b[0;34m\u001b[0m\u001b[0m\n\u001b[0;32m--> 992\u001b[0;31m             \u001b[0mfh\u001b[0m \u001b[0;34m=\u001b[0m \u001b[0mnp\u001b[0m\u001b[0;34m.\u001b[0m\u001b[0mlib\u001b[0m\u001b[0;34m.\u001b[0m\u001b[0m_datasource\u001b[0m\u001b[0;34m.\u001b[0m\u001b[0mopen\u001b[0m\u001b[0;34m(\u001b[0m\u001b[0mfname\u001b[0m\u001b[0;34m,\u001b[0m \u001b[0;34m'rt'\u001b[0m\u001b[0;34m,\u001b[0m \u001b[0mencoding\u001b[0m\u001b[0;34m=\u001b[0m\u001b[0mencoding\u001b[0m\u001b[0;34m)\u001b[0m\u001b[0;34m\u001b[0m\u001b[0;34m\u001b[0m\u001b[0m\n\u001b[0m\u001b[1;32m    993\u001b[0m             \u001b[0;32mif\u001b[0m \u001b[0mencoding\u001b[0m \u001b[0;32mis\u001b[0m \u001b[0;32mNone\u001b[0m\u001b[0;34m:\u001b[0m\u001b[0;34m\u001b[0m\u001b[0;34m\u001b[0m\u001b[0m\n\u001b[1;32m    994\u001b[0m                 \u001b[0mencoding\u001b[0m \u001b[0;34m=\u001b[0m \u001b[0mgetattr\u001b[0m\u001b[0;34m(\u001b[0m\u001b[0mfh\u001b[0m\u001b[0;34m,\u001b[0m \u001b[0;34m'encoding'\u001b[0m\u001b[0;34m,\u001b[0m \u001b[0;34m'latin1'\u001b[0m\u001b[0;34m)\u001b[0m\u001b[0;34m\u001b[0m\u001b[0;34m\u001b[0m\u001b[0m\n",
            "\u001b[0;32m/usr/local/lib/python3.10/dist-packages/numpy/lib/_datasource.py\u001b[0m in \u001b[0;36mopen\u001b[0;34m(path, mode, destpath, encoding, newline)\u001b[0m\n\u001b[1;32m    191\u001b[0m \u001b[0;34m\u001b[0m\u001b[0m\n\u001b[1;32m    192\u001b[0m     \u001b[0mds\u001b[0m \u001b[0;34m=\u001b[0m \u001b[0mDataSource\u001b[0m\u001b[0;34m(\u001b[0m\u001b[0mdestpath\u001b[0m\u001b[0;34m)\u001b[0m\u001b[0;34m\u001b[0m\u001b[0;34m\u001b[0m\u001b[0m\n\u001b[0;32m--> 193\u001b[0;31m     \u001b[0;32mreturn\u001b[0m \u001b[0mds\u001b[0m\u001b[0;34m.\u001b[0m\u001b[0mopen\u001b[0m\u001b[0;34m(\u001b[0m\u001b[0mpath\u001b[0m\u001b[0;34m,\u001b[0m \u001b[0mmode\u001b[0m\u001b[0;34m,\u001b[0m \u001b[0mencoding\u001b[0m\u001b[0;34m=\u001b[0m\u001b[0mencoding\u001b[0m\u001b[0;34m,\u001b[0m \u001b[0mnewline\u001b[0m\u001b[0;34m=\u001b[0m\u001b[0mnewline\u001b[0m\u001b[0;34m)\u001b[0m\u001b[0;34m\u001b[0m\u001b[0;34m\u001b[0m\u001b[0m\n\u001b[0m\u001b[1;32m    194\u001b[0m \u001b[0;34m\u001b[0m\u001b[0m\n\u001b[1;32m    195\u001b[0m \u001b[0;34m\u001b[0m\u001b[0m\n",
            "\u001b[0;32m/usr/local/lib/python3.10/dist-packages/numpy/lib/_datasource.py\u001b[0m in \u001b[0;36mopen\u001b[0;34m(self, path, mode, encoding, newline)\u001b[0m\n\u001b[1;32m    531\u001b[0m                                       encoding=encoding, newline=newline)\n\u001b[1;32m    532\u001b[0m         \u001b[0;32melse\u001b[0m\u001b[0;34m:\u001b[0m\u001b[0;34m\u001b[0m\u001b[0;34m\u001b[0m\u001b[0m\n\u001b[0;32m--> 533\u001b[0;31m             \u001b[0;32mraise\u001b[0m \u001b[0mFileNotFoundError\u001b[0m\u001b[0;34m(\u001b[0m\u001b[0;34mf\"{path} not found.\"\u001b[0m\u001b[0;34m)\u001b[0m\u001b[0;34m\u001b[0m\u001b[0;34m\u001b[0m\u001b[0m\n\u001b[0m\u001b[1;32m    534\u001b[0m \u001b[0;34m\u001b[0m\u001b[0m\n\u001b[1;32m    535\u001b[0m \u001b[0;34m\u001b[0m\u001b[0m\n",
            "\u001b[0;31mFileNotFoundError\u001b[0m: populations.txt not found."
          ]
        }
      ]
    },
    {
      "cell_type": "code",
      "metadata": {
        "id": "P6namKkVswf1",
        "colab": {
          "base_uri": "https://localhost:8080/",
          "height": 141
        },
        "outputId": "6fe82918-a38e-4975-febe-95b086a783f2"
      },
      "source": [
        "data"
      ],
      "execution_count": 43,
      "outputs": [
        {
          "output_type": "error",
          "ename": "NameError",
          "evalue": "name 'data' is not defined",
          "traceback": [
            "\u001b[0;31m---------------------------------------------------------------------------\u001b[0m",
            "\u001b[0;31mNameError\u001b[0m                                 Traceback (most recent call last)",
            "\u001b[0;32m<ipython-input-43-c5d84736ba45>\u001b[0m in \u001b[0;36m<cell line: 1>\u001b[0;34m()\u001b[0m\n\u001b[0;32m----> 1\u001b[0;31m \u001b[0mdata\u001b[0m\u001b[0;34m\u001b[0m\u001b[0;34m\u001b[0m\u001b[0m\n\u001b[0m",
            "\u001b[0;31mNameError\u001b[0m: name 'data' is not defined"
          ]
        }
      ]
    },
    {
      "cell_type": "code",
      "metadata": {
        "id": "QmlBep1Mswf5"
      },
      "source": [
        "year, hares, lynxes, carrots = data.T #columns to variables\n",
        "print(year)"
      ],
      "execution_count": null,
      "outputs": []
    },
    {
      "cell_type": "code",
      "metadata": {
        "id": "rK1BKEoyswgD"
      },
      "source": [
        "#The mean population over time\n",
        "populations = data[:, 1:]\n",
        "populations"
      ],
      "execution_count": null,
      "outputs": []
    },
    {
      "cell_type": "code",
      "metadata": {
        "id": "x9fl1SFuswgI"
      },
      "source": [
        "#sample standard deviations\n",
        "populations.std(axis=0)"
      ],
      "execution_count": null,
      "outputs": []
    },
    {
      "cell_type": "code",
      "metadata": {
        "id": "JuRAVBQZswgT"
      },
      "source": [
        "#which species has the highest population each year?\n",
        "\n",
        "np.argmax(populations, axis=1)"
      ],
      "execution_count": null,
      "outputs": []
    },
    {
      "cell_type": "markdown",
      "metadata": {
        "id": "tU_ZXk-TswgY"
      },
      "source": [
        "# Broadcasting"
      ]
    },
    {
      "cell_type": "markdown",
      "metadata": {
        "id": "9YhDQLkMswga"
      },
      "source": [
        "Basic operations on numpy arrays (addition, etc.) are elementwise\n",
        "\n",
        "This works on arrays of the same size.\n",
        "    Nevertheless, It’s also possible to do operations on arrays of different sizes if NumPy can transform these arrays     so that they all have the same size: this conversion is called broadcasting.\n",
        "\n",
        "The image below gives an example of broadcasting:"
      ]
    },
    {
      "cell_type": "markdown",
      "metadata": {
        "id": "ikjmauQzswgc"
      },
      "source": [
        "![title](broadcasting.png)"
      ]
    },
    {
      "cell_type": "code",
      "metadata": {
        "id": "nI5avDtJswgd",
        "colab": {
          "base_uri": "https://localhost:8080/"
        },
        "outputId": "be113297-f2cf-427b-caea-feec9d0a74c7"
      },
      "source": [
        "a = np.tile(np.arange(0, 40, 10), (3,1))\n",
        "print(a)\n",
        "\n",
        "print(\"*************\")\n",
        "a=a.T\n",
        "print(a)"
      ],
      "execution_count": 46,
      "outputs": [
        {
          "output_type": "stream",
          "name": "stdout",
          "text": [
            "[[ 0 10 20 30]\n",
            " [ 0 10 20 30]\n",
            " [ 0 10 20 30]]\n",
            "*************\n",
            "[[ 0  0  0]\n",
            " [10 10 10]\n",
            " [20 20 20]\n",
            " [30 30 30]]\n"
          ]
        }
      ]
    },
    {
      "cell_type": "code",
      "metadata": {
        "id": "cLIID2BSswgf",
        "colab": {
          "base_uri": "https://localhost:8080/"
        },
        "outputId": "10f5c208-cba3-4d5a-8b5d-27a2b9328467"
      },
      "source": [
        "\n",
        "b = np.array([0, 1, 2])\n",
        "b"
      ],
      "execution_count": 45,
      "outputs": [
        {
          "output_type": "execute_result",
          "data": {
            "text/plain": [
              "array([0, 1, 2])"
            ]
          },
          "metadata": {},
          "execution_count": 45
        }
      ]
    },
    {
      "cell_type": "code",
      "metadata": {
        "id": "jQrV3eHlswgh",
        "colab": {
          "base_uri": "https://localhost:8080/"
        },
        "outputId": "77832c5e-2904-45f5-b02e-9890f18a9ead"
      },
      "source": [
        "\n",
        "a + b"
      ],
      "execution_count": 47,
      "outputs": [
        {
          "output_type": "execute_result",
          "data": {
            "text/plain": [
              "array([[ 0,  1,  2],\n",
              "       [10, 11, 12],\n",
              "       [20, 21, 22],\n",
              "       [30, 31, 32]])"
            ]
          },
          "metadata": {},
          "execution_count": 47
        }
      ]
    },
    {
      "cell_type": "code",
      "metadata": {
        "id": "O46UzhDpswgj",
        "colab": {
          "base_uri": "https://localhost:8080/"
        },
        "outputId": "0ee0a158-25a1-4123-d756-0f47b28bda7d"
      },
      "source": [
        "a = np.arange(0, 40, 10)\n",
        "a.shape\n"
      ],
      "execution_count": 48,
      "outputs": [
        {
          "output_type": "execute_result",
          "data": {
            "text/plain": [
              "(4,)"
            ]
          },
          "metadata": {},
          "execution_count": 48
        }
      ]
    },
    {
      "cell_type": "code",
      "metadata": {
        "id": "OgkzL1i9swgl",
        "colab": {
          "base_uri": "https://localhost:8080/"
        },
        "outputId": "08792717-36e2-4886-f86e-bc2d312e4a27"
      },
      "source": [
        "a = a[:, np.newaxis]  # adds a new axis -> 2D array\n",
        "a.shape"
      ],
      "execution_count": 49,
      "outputs": [
        {
          "output_type": "execute_result",
          "data": {
            "text/plain": [
              "(4, 1)"
            ]
          },
          "metadata": {},
          "execution_count": 49
        }
      ]
    },
    {
      "cell_type": "code",
      "metadata": {
        "id": "PQiWxq-6swgq",
        "colab": {
          "base_uri": "https://localhost:8080/"
        },
        "outputId": "8f807de4-a922-4f2a-f5a8-dafe318e00c8"
      },
      "source": [
        "a"
      ],
      "execution_count": 50,
      "outputs": [
        {
          "output_type": "execute_result",
          "data": {
            "text/plain": [
              "array([[ 0],\n",
              "       [10],\n",
              "       [20],\n",
              "       [30]])"
            ]
          },
          "metadata": {},
          "execution_count": 50
        }
      ]
    },
    {
      "cell_type": "code",
      "metadata": {
        "id": "tsUMMhVMswgw",
        "colab": {
          "base_uri": "https://localhost:8080/"
        },
        "outputId": "d23e3a55-fc64-4ae7-c9c1-d953901c2e8d"
      },
      "source": [
        "a + b"
      ],
      "execution_count": 51,
      "outputs": [
        {
          "output_type": "execute_result",
          "data": {
            "text/plain": [
              "array([[ 0,  1,  2],\n",
              "       [10, 11, 12],\n",
              "       [20, 21, 22],\n",
              "       [30, 31, 32]])"
            ]
          },
          "metadata": {},
          "execution_count": 51
        }
      ]
    },
    {
      "cell_type": "markdown",
      "metadata": {
        "id": "j_PyiHoLswgz"
      },
      "source": [
        "# Array Shape Manipulation"
      ]
    },
    {
      "cell_type": "markdown",
      "metadata": {
        "id": "k_PleE7Tswgz"
      },
      "source": [
        "**Flattening**"
      ]
    },
    {
      "cell_type": "code",
      "metadata": {
        "id": "ZCNm05mWswg0",
        "colab": {
          "base_uri": "https://localhost:8080/"
        },
        "outputId": "df5dd2b9-2b3b-4c4f-d7b9-4fb92516e3cf"
      },
      "source": [
        "a = np.array([[1, 2, 3], [4, 5, 6]])\n",
        "a.ravel() #Return a contiguous flattened array. A 1-D array, containing the elements of the input, is returned. A copy is made only if needed."
      ],
      "execution_count": 52,
      "outputs": [
        {
          "output_type": "execute_result",
          "data": {
            "text/plain": [
              "array([1, 2, 3, 4, 5, 6])"
            ]
          },
          "metadata": {},
          "execution_count": 52
        }
      ]
    },
    {
      "cell_type": "code",
      "metadata": {
        "id": "vDHkkj_Cswg2",
        "colab": {
          "base_uri": "https://localhost:8080/"
        },
        "outputId": "b54f9a4a-a9b8-4ab0-f9ea-4194ea59f516"
      },
      "source": [
        "a.T #Transpose"
      ],
      "execution_count": 54,
      "outputs": [
        {
          "output_type": "execute_result",
          "data": {
            "text/plain": [
              "array([[1, 4],\n",
              "       [2, 5],\n",
              "       [3, 6]])"
            ]
          },
          "metadata": {},
          "execution_count": 54
        }
      ]
    },
    {
      "cell_type": "code",
      "metadata": {
        "id": "OQwnB4jMswg7",
        "colab": {
          "base_uri": "https://localhost:8080/"
        },
        "outputId": "ecc10b90-66e7-4682-8f61-778fe6869408"
      },
      "source": [
        "a.T.ravel()"
      ],
      "execution_count": 53,
      "outputs": [
        {
          "output_type": "execute_result",
          "data": {
            "text/plain": [
              "array([1, 4, 2, 5, 3, 6])"
            ]
          },
          "metadata": {},
          "execution_count": 53
        }
      ]
    },
    {
      "cell_type": "markdown",
      "metadata": {
        "id": "IfyMcSqWswhA"
      },
      "source": [
        "**Reshaping**"
      ]
    },
    {
      "cell_type": "markdown",
      "metadata": {
        "id": "QcaiZZ7mswhA"
      },
      "source": [
        "The inverse operation to flattening:"
      ]
    },
    {
      "cell_type": "code",
      "metadata": {
        "id": "MA6cntc9swhC",
        "colab": {
          "base_uri": "https://localhost:8080/"
        },
        "outputId": "0c57dad9-218a-4bad-a62f-15fd17b20418"
      },
      "source": [
        "print(a.shape)\n",
        "print(a)"
      ],
      "execution_count": 55,
      "outputs": [
        {
          "output_type": "stream",
          "name": "stdout",
          "text": [
            "(2, 3)\n",
            "[[1 2 3]\n",
            " [4 5 6]]\n"
          ]
        }
      ]
    },
    {
      "cell_type": "code",
      "metadata": {
        "id": "hhJauR24swhE",
        "colab": {
          "base_uri": "https://localhost:8080/"
        },
        "outputId": "6af80351-afbd-4935-b426-a945fd335340"
      },
      "source": [
        "b = a.ravel()\n",
        "print(b)"
      ],
      "execution_count": 56,
      "outputs": [
        {
          "output_type": "stream",
          "name": "stdout",
          "text": [
            "[1 2 3 4 5 6]\n"
          ]
        }
      ]
    },
    {
      "cell_type": "code",
      "metadata": {
        "id": "vXbnz73uswhG",
        "colab": {
          "base_uri": "https://localhost:8080/"
        },
        "outputId": "e8eec0ab-38fc-412f-826a-d4fc2d9875e9"
      },
      "source": [
        "b = b.reshape((2, 3))\n",
        "b"
      ],
      "execution_count": 57,
      "outputs": [
        {
          "output_type": "execute_result",
          "data": {
            "text/plain": [
              "array([[1, 2, 3],\n",
              "       [4, 5, 6]])"
            ]
          },
          "metadata": {},
          "execution_count": 57
        }
      ]
    },
    {
      "cell_type": "code",
      "metadata": {
        "id": "TNr-WvUzswhI",
        "colab": {
          "base_uri": "https://localhost:8080/"
        },
        "outputId": "53f3a3bb-fdd5-49ed-b92e-3439f87a944f"
      },
      "source": [
        "b[0, 0] = 100\n",
        "a"
      ],
      "execution_count": 58,
      "outputs": [
        {
          "output_type": "execute_result",
          "data": {
            "text/plain": [
              "array([[100,   2,   3],\n",
              "       [  4,   5,   6]])"
            ]
          },
          "metadata": {},
          "execution_count": 58
        }
      ]
    },
    {
      "cell_type": "markdown",
      "metadata": {
        "id": "_Y5EeOeJswhL"
      },
      "source": [
        "**Note and       Beware: reshape may also return a copy!:**"
      ]
    },
    {
      "cell_type": "code",
      "metadata": {
        "id": "tf1F72vHswhL",
        "colab": {
          "base_uri": "https://localhost:8080/"
        },
        "outputId": "f3360d31-62a3-49c4-d236-d5d0a67421f1"
      },
      "source": [
        "a = np.zeros((3, 2))\n",
        "b = a.T.reshape(3*2)\n",
        "b[0] = 50\n",
        "a"
      ],
      "execution_count": 59,
      "outputs": [
        {
          "output_type": "execute_result",
          "data": {
            "text/plain": [
              "array([[0., 0.],\n",
              "       [0., 0.],\n",
              "       [0., 0.]])"
            ]
          },
          "metadata": {},
          "execution_count": 59
        }
      ]
    },
    {
      "cell_type": "markdown",
      "metadata": {
        "id": "4pnFgWaTswhO"
      },
      "source": [
        "**Adding a Dimension**"
      ]
    },
    {
      "cell_type": "markdown",
      "metadata": {
        "id": "b3x7GDphswhP"
      },
      "source": [
        "Indexing with the np.newaxis object allows us to add an axis to an array"
      ]
    },
    {
      "cell_type": "markdown",
      "metadata": {
        "id": "zWZFOfB0swhP"
      },
      "source": [
        "newaxis is used to increase the dimension of the existing array by one more dimension, when used once. Thus,\n",
        "\n",
        "1D array will become 2D array\n",
        "\n",
        "2D array will become 3D array\n",
        "\n",
        "3D array will become 4D array and so on"
      ]
    },
    {
      "cell_type": "code",
      "metadata": {
        "id": "DuHUdNLoswhP",
        "colab": {
          "base_uri": "https://localhost:8080/"
        },
        "outputId": "cc26f7e6-7d30-482d-cf9e-e79a10f8b10f"
      },
      "source": [
        "z = np.array([1, 2, 3])\n",
        "z"
      ],
      "execution_count": 60,
      "outputs": [
        {
          "output_type": "execute_result",
          "data": {
            "text/plain": [
              "array([1, 2, 3])"
            ]
          },
          "metadata": {},
          "execution_count": 60
        }
      ]
    },
    {
      "cell_type": "code",
      "metadata": {
        "id": "f48pj0JMswhT",
        "colab": {
          "base_uri": "https://localhost:8080/"
        },
        "outputId": "e1635c22-0cc3-45c4-960d-d0f57bcba736"
      },
      "source": [
        "z[:, np.newaxis]"
      ],
      "execution_count": 61,
      "outputs": [
        {
          "output_type": "execute_result",
          "data": {
            "text/plain": [
              "array([[1],\n",
              "       [2],\n",
              "       [3]])"
            ]
          },
          "metadata": {},
          "execution_count": 61
        }
      ]
    },
    {
      "cell_type": "markdown",
      "metadata": {
        "id": "Wy-2k9NjswhW"
      },
      "source": [
        "**Dimension Shuffling**"
      ]
    },
    {
      "cell_type": "code",
      "metadata": {
        "id": "MSTSN5IoswhZ",
        "colab": {
          "base_uri": "https://localhost:8080/"
        },
        "outputId": "cc4f5367-3df1-40fc-f4c9-2ac5a3509e01"
      },
      "source": [
        "a = np.arange(4*3*2).reshape(4, 3, 2)\n",
        "a.shape"
      ],
      "execution_count": 62,
      "outputs": [
        {
          "output_type": "execute_result",
          "data": {
            "text/plain": [
              "(4, 3, 2)"
            ]
          },
          "metadata": {},
          "execution_count": 62
        }
      ]
    },
    {
      "cell_type": "code",
      "metadata": {
        "id": "-i_qw-2Bswhd",
        "colab": {
          "base_uri": "https://localhost:8080/"
        },
        "outputId": "81eb1ea2-1abb-48d6-e7b5-f975f3a3d725"
      },
      "source": [
        "a"
      ],
      "execution_count": 63,
      "outputs": [
        {
          "output_type": "execute_result",
          "data": {
            "text/plain": [
              "array([[[ 0,  1],\n",
              "        [ 2,  3],\n",
              "        [ 4,  5]],\n",
              "\n",
              "       [[ 6,  7],\n",
              "        [ 8,  9],\n",
              "        [10, 11]],\n",
              "\n",
              "       [[12, 13],\n",
              "        [14, 15],\n",
              "        [16, 17]],\n",
              "\n",
              "       [[18, 19],\n",
              "        [20, 21],\n",
              "        [22, 23]]])"
            ]
          },
          "metadata": {},
          "execution_count": 63
        }
      ]
    },
    {
      "cell_type": "code",
      "metadata": {
        "id": "sFfdpnwxswhg",
        "colab": {
          "base_uri": "https://localhost:8080/"
        },
        "outputId": "ce5bb89a-a188-4611-9e17-5ddb579b9001"
      },
      "source": [
        "a[0, 2, 1]"
      ],
      "execution_count": 64,
      "outputs": [
        {
          "output_type": "execute_result",
          "data": {
            "text/plain": [
              "5"
            ]
          },
          "metadata": {},
          "execution_count": 64
        }
      ]
    },
    {
      "cell_type": "markdown",
      "metadata": {
        "id": "2lFLuLyjswhk"
      },
      "source": [
        "**Resizing**"
      ]
    },
    {
      "cell_type": "code",
      "metadata": {
        "id": "Yi9xEsTdswhl",
        "colab": {
          "base_uri": "https://localhost:8080/"
        },
        "outputId": "6823933d-c445-47f8-db62-ce0dc996039a"
      },
      "source": [
        "a = np.arange(4)\n",
        "a.resize((8,))\n",
        "a"
      ],
      "execution_count": 65,
      "outputs": [
        {
          "output_type": "execute_result",
          "data": {
            "text/plain": [
              "array([0, 1, 2, 3, 0, 0, 0, 0])"
            ]
          },
          "metadata": {},
          "execution_count": 65
        }
      ]
    },
    {
      "cell_type": "markdown",
      "metadata": {
        "id": "L32_TKH-swhp"
      },
      "source": [
        "However, it must not be referred to somewhere else:"
      ]
    },
    {
      "cell_type": "code",
      "metadata": {
        "id": "n03o_7jKswhq",
        "colab": {
          "base_uri": "https://localhost:8080/",
          "height": 193
        },
        "outputId": "830cd569-b25a-4b7e-8fad-7fea7b6c676d"
      },
      "source": [
        "b = a\n",
        "a.resize((4,))"
      ],
      "execution_count": 66,
      "outputs": [
        {
          "output_type": "error",
          "ename": "ValueError",
          "evalue": "cannot resize an array that references or is referenced\nby another array in this way.\nUse the np.resize function or refcheck=False",
          "traceback": [
            "\u001b[0;31m---------------------------------------------------------------------------\u001b[0m",
            "\u001b[0;31mValueError\u001b[0m                                Traceback (most recent call last)",
            "\u001b[0;32m<ipython-input-66-5d858401815e>\u001b[0m in \u001b[0;36m<cell line: 2>\u001b[0;34m()\u001b[0m\n\u001b[1;32m      1\u001b[0m \u001b[0mb\u001b[0m \u001b[0;34m=\u001b[0m \u001b[0ma\u001b[0m\u001b[0;34m\u001b[0m\u001b[0;34m\u001b[0m\u001b[0m\n\u001b[0;32m----> 2\u001b[0;31m \u001b[0ma\u001b[0m\u001b[0;34m.\u001b[0m\u001b[0mresize\u001b[0m\u001b[0;34m(\u001b[0m\u001b[0;34m(\u001b[0m\u001b[0;36m4\u001b[0m\u001b[0;34m,\u001b[0m\u001b[0;34m)\u001b[0m\u001b[0;34m)\u001b[0m\u001b[0;34m\u001b[0m\u001b[0;34m\u001b[0m\u001b[0m\n\u001b[0m",
            "\u001b[0;31mValueError\u001b[0m: cannot resize an array that references or is referenced\nby another array in this way.\nUse the np.resize function or refcheck=False"
          ]
        }
      ]
    },
    {
      "cell_type": "markdown",
      "metadata": {
        "id": "xm598Xkxswhs"
      },
      "source": [
        "**Sorting Data**"
      ]
    },
    {
      "cell_type": "code",
      "metadata": {
        "id": "iM9Y-4wfswhs"
      },
      "source": [
        "#Sorting along an axis:\n",
        "a = np.array([[5, 4, 6], [2, 3, 2]])\n",
        "b = np.sort(a, axis=1)\n",
        "b"
      ],
      "execution_count": null,
      "outputs": []
    },
    {
      "cell_type": "code",
      "metadata": {
        "id": "Z8gWeYynswhw",
        "colab": {
          "base_uri": "https://localhost:8080/"
        },
        "outputId": "ccde66c4-5f8d-4605-e2df-a900617639cb"
      },
      "source": [
        "#in-place sort\n",
        "a.sort(axis=1)\n",
        "a"
      ],
      "execution_count": 68,
      "outputs": [
        {
          "output_type": "execute_result",
          "data": {
            "text/plain": [
              "array([[4, 5, 6],\n",
              "       [2, 2, 3]])"
            ]
          },
          "metadata": {},
          "execution_count": 68
        }
      ]
    },
    {
      "cell_type": "code",
      "metadata": {
        "id": "DSSbH76aswh1",
        "colab": {
          "base_uri": "https://localhost:8080/"
        },
        "outputId": "8a371538-a739-400f-9225-008c5941fcff"
      },
      "source": [
        "#sorting with fancy indexing\n",
        "a = np.array([4, 3, 1, 2])\n",
        "j = np.argsort(a)\n",
        "j"
      ],
      "execution_count": 69,
      "outputs": [
        {
          "output_type": "execute_result",
          "data": {
            "text/plain": [
              "array([2, 3, 1, 0])"
            ]
          },
          "metadata": {},
          "execution_count": 69
        }
      ]
    },
    {
      "cell_type": "code",
      "metadata": {
        "id": "CtBWBS5Qswh3",
        "colab": {
          "base_uri": "https://localhost:8080/"
        },
        "outputId": "06f9b46e-5f99-44d2-d85c-1b3218b33a48"
      },
      "source": [
        "a[j]"
      ],
      "execution_count": 70,
      "outputs": [
        {
          "output_type": "execute_result",
          "data": {
            "text/plain": [
              "array([1, 2, 3, 4])"
            ]
          },
          "metadata": {},
          "execution_count": 70
        }
      ]
    }
  ]
}